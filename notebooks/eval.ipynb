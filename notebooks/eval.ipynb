{
 "cells": [
  {
   "cell_type": "code",
   "execution_count": 1,
   "metadata": {},
   "outputs": [],
   "source": [
    "import pickle\n",
    "import os"
   ]
  },
  {
   "cell_type": "code",
   "execution_count": null,
   "metadata": {},
   "outputs": [],
   "source": [
    "!pip install -r ../requirements.txt\n",
    "!pip install -e ..\n"
   ]
  },
  {
   "cell_type": "code",
   "execution_count": 3,
   "metadata": {},
   "outputs": [],
   "source": [
    "import protorubric"
   ]
  },
  {
   "cell_type": "code",
   "execution_count": 7,
   "metadata": {},
   "outputs": [],
   "source": [
    "from protorubric.eval.rubric_with_answers import RubricWithAnswers\n",
    "from protorubric.constants import EVAL_BASE_DIR\n",
    "\n",
    "fnames = [path for path in os.listdir(EVAL_BASE_DIR) if path.endswith(\".pkl\")]\n",
    "\n",
    "completed_rubrics: dict[str, RubricWithAnswers] = dict()\n",
    "for fname in fnames:\n",
    "    completed_rubrics[fname.replace(\".pkl\", \"\")] = RubricWithAnswers.load_pkl(os.path.join(EVAL_BASE_DIR, fname))"
   ]
  },
  {
   "cell_type": "code",
   "execution_count": null,
   "metadata": {},
   "outputs": [],
   "source": [
    "completed_rubrics.keys()"
   ]
  },
  {
   "cell_type": "code",
   "execution_count": 16,
   "metadata": {},
   "outputs": [],
   "source": [
    "metrics = {k: v._results_metrics['metrics'] for k, v in completed_rubrics.items()}\n",
    "requirements = {k: v._results_metrics['requirements'] for k, v in completed_rubrics.items()}\n"
   ]
  },
  {
   "cell_type": "code",
   "execution_count": 66,
   "metadata": {},
   "outputs": [],
   "source": [
    "import pandas as pd\n",
    "\n",
    "def results_dict_to_structured_df(results_dict: dict[str, dict[str, dict[str, float]]], new_col_name: str, old_key: str = \"stats\") -> pd.DataFrame:\n",
    "    df = pd.DataFrame(results_dict)\n",
    "    df_reset = df.reset_index().melt(id_vars='index', var_name='result_title', value_name=old_key)\n",
    "    df_reset = df_reset.rename(columns={'index': new_col_name})\n",
    "    stats_df = pd.json_normalize(df_reset[old_key])\n",
    "    results_df = pd.concat([df_reset[['result_title', new_col_name]], stats_df], axis=1)\n",
    "    return results_df"
   ]
  },
  {
   "cell_type": "code",
   "execution_count": null,
   "metadata": {},
   "outputs": [],
   "source": [
    "metrics_df = results_dict_to_structured_df(metrics, \"metric\")\n",
    "metrics_df.head()"
   ]
  },
  {
   "cell_type": "code",
   "execution_count": null,
   "metadata": {},
   "outputs": [],
   "source": [
    "results_df = results_dict_to_structured_df(requirements, \"requirement\")\n",
    "results_df.head()"
   ]
  }
 ],
 "metadata": {
  "kernelspec": {
   "display_name": "lapa",
   "language": "python",
   "name": "python3"
  },
  "language_info": {
   "codemirror_mode": {
    "name": "ipython",
    "version": 3
   },
   "file_extension": ".py",
   "mimetype": "text/x-python",
   "name": "python",
   "nbconvert_exporter": "python",
   "pygments_lexer": "ipython3",
   "version": "3.10.15"
  }
 },
 "nbformat": 4,
 "nbformat_minor": 2
}
